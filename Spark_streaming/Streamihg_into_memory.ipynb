{
 "cells": [
  {
   "cell_type": "code",
   "execution_count": 1,
   "id": "c3bf8c6c-9999-4ef4-8a5d-300818e7385b",
   "metadata": {
    "tags": []
   },
   "outputs": [],
   "source": [
    "from pyspark.sql import SparkSession\n",
    "from pyspark.sql.types import *\n",
    "from pyspark.sql.functions import *\n",
    "import os\n",
    "\n",
    "spark = SparkSession.builder.appName(\"StaticDataFrame\").getOrCreate()"
   ]
  },
  {
   "cell_type": "code",
   "execution_count": 2,
   "id": "ff7245b0-fad6-4cb9-a432-6411597ec885",
   "metadata": {
    "tags": []
   },
   "outputs": [],
   "source": [
    "# Create an input streaming dataframe for json files in the user_weather folder.\n",
    "schema = StructType([\n",
    "    StructField('is_day', LongType(), True),\n",
    "    StructField('temperature', DoubleType(), True),\n",
    "    StructField('time', StringType(), True),\n",
    "    StructField('weathercode', LongType(), True),\n",
    "    StructField('winddirection', DoubleType(), True),\n",
    "    StructField('windspeed', DoubleType(), True)\n",
    "])\n",
    "\n",
    "input_df = (spark.readStream.format(\"json\")\n",
    "            .schema(schema)\n",
    "            .option(\"maxFilesPerTrigger\", 1)\n",
    "            .load(\"user_weather/\"))\n",
    "\n"
   ]
  },
  {
   "cell_type": "code",
   "execution_count": 3,
   "id": "f8d9bc7f-d248-4088-8ab6-ec39b4c3189b",
   "metadata": {
    "tags": []
   },
   "outputs": [],
   "source": [
    "# Apply the function to get the average temperature of streaming data\n",
    "temp_df = (input_df.select(col(\"temperature\"))\n",
    "           .groupBy()\n",
    "           .agg(avg(\"temperature\").alias(\"avg_temperature\")))"
   ]
  },
  {
   "cell_type": "code",
   "execution_count": 4,
   "id": "18b8600b-d76f-4002-b75a-5e7e91d96189",
   "metadata": {
    "tags": []
   },
   "outputs": [
    {
     "data": {
      "text/plain": [
       "{'message': 'Processing new data',\n",
       " 'isDataAvailable': True,\n",
       " 'isTriggerActive': True}"
      ]
     },
     "execution_count": 4,
     "metadata": {},
     "output_type": "execute_result"
    }
   ],
   "source": [
    "# Create an output sink to memory. Add the 30 minutes trigger.\n",
    "query = (temp_df.writeStream\n",
    "         .outputMode(\"complete\")\n",
    "         .format(\"memory\")\n",
    "         .queryName(\"avg_temperature\")\n",
    "         .trigger(processingTime=\"30 minutes\")\n",
    "         .start())\n",
    "\n",
    "query.status"
   ]
  },
  {
   "cell_type": "code",
   "execution_count": 5,
   "id": "3af43e5c-f045-4749-9861-a456e5a325c4",
   "metadata": {
    "tags": []
   },
   "outputs": [
    {
     "name": "stdout",
     "output_type": "stream",
     "text": [
      "+---------------+\n",
      "|avg_temperature|\n",
      "+---------------+\n",
      "|           12.4|\n",
      "+---------------+\n",
      "\n"
     ]
    },
    {
     "ename": "KeyboardInterrupt",
     "evalue": "",
     "output_type": "error",
     "traceback": [
      "\u001b[0;31m\u001b[0m",
      "\u001b[0;31mKeyboardInterrupt\u001b[0mTraceback (most recent call last)",
      "Cell \u001b[0;32mIn[5], line 33\u001b[0m\n\u001b[1;32m     31\u001b[0m     write_current_weather_to_file(file_name, current_weather)\n\u001b[1;32m     32\u001b[0m result_df \u001b[38;5;241m=\u001b[39m spark\u001b[38;5;241m.\u001b[39msql(\u001b[38;5;124m\"\u001b[39m\u001b[38;5;124mSELECT * FROM avg_temperature\u001b[39m\u001b[38;5;124m\"\u001b[39m)\u001b[38;5;241m.\u001b[39mshow() \u001b[38;5;66;03m# Select data from the in-memory table every 30 minutes.\u001b[39;00m\n\u001b[0;32m---> 33\u001b[0m \u001b[43mtime\u001b[49m\u001b[38;5;241;43m.\u001b[39;49m\u001b[43msleep\u001b[49m\u001b[43m(\u001b[49m\u001b[38;5;241;43m1800\u001b[39;49m\u001b[43m)\u001b[49m \u001b[38;5;66;03m# wait for 30 minutes\u001b[39;00m\n",
      "\u001b[0;31mKeyboardInterrupt\u001b[0m: "
     ]
    }
   ],
   "source": [
    "# Modify the code below to create a program which will be make weather API calls every 30 minutes \n",
    "# and store data in user_weather/[user]_[current_timestamp]_weather.json files. Move it to the separate Python file and start the program.\n",
    "\n",
    "import time\n",
    "import requests\n",
    "import json\n",
    "import random\n",
    "import datetime\n",
    "\n",
    "user_locations = []\n",
    "for i in range(20):\n",
    "    user_locations.append((\"user\"+str(i), random.uniform(-90, 90), random.uniform(-180, 180)))\n",
    "\n",
    "\n",
    "def get_current_weather(url):\n",
    "    request_response = requests.get(url)\n",
    "    weather_request_response_json = json.loads(request_response.text)\n",
    "    current_weather = weather_request_response_json[\"current_weather\"]\n",
    "    return current_weather\n",
    "\n",
    "def write_current_weather_to_file(file_name, current_weather):\n",
    "    with open(file_name, \"a\") as f:\n",
    "        f.write(json.dumps(current_weather))\n",
    "\n",
    "while True:\n",
    "    current_time = datetime.datetime.now()\n",
    "    for i in range(len(user_locations)):\n",
    "        weather_api_url = f\"https://api.open-meteo.com/v1/forecast?latitude={user_locations[i][1]}&longitude={user_locations[i][2]}&current_weather=true&hourly=temperature_2m,relativehumidity_2m,windspeed_10m\"\n",
    "        current_weather = get_current_weather(weather_api_url)\n",
    "        file_name = f\"user_weather/{user_locations[i][0]}_{current_time.strftime('%Y%m%d_%H%M%S')}_weather.json\"\n",
    "        write_current_weather_to_file(file_name, current_weather)\n",
    "    result_df = spark.sql(\"SELECT * FROM avg_temperature\").show() # Select data from the in-memory table every 30 minutes.\n",
    "    time.sleep(1800) # wait for 30 minutes"
   ]
  },
  {
   "cell_type": "code",
   "execution_count": null,
   "id": "e2bdc74d-7070-4065-9104-03425ef01da6",
   "metadata": {},
   "outputs": [],
   "source": []
  }
 ],
 "metadata": {
  "kernelspec": {
   "display_name": "Python 3 (ipykernel)",
   "language": "python",
   "name": "python3"
  },
  "language_info": {
   "codemirror_mode": {
    "name": "ipython",
    "version": 3
   },
   "file_extension": ".py",
   "mimetype": "text/x-python",
   "name": "python",
   "nbconvert_exporter": "python",
   "pygments_lexer": "ipython3",
   "version": "3.10.10"
  }
 },
 "nbformat": 4,
 "nbformat_minor": 5
}
